{
 "cells": [
  {
   "cell_type": "markdown",
   "metadata": {},
   "source": [
    "# DOC PYTHON QUESTIONS"
   ]
  },
  {
   "cell_type": "code",
   "execution_count": 1,
   "metadata": {},
   "outputs": [
    {
     "name": "stdout",
     "output_type": "stream",
     "text": [
      "8000\n",
      "[34, 20, 40]\n"
     ]
    }
   ],
   "source": [
    "# l1 = [(\"ram\", 50, 70, 60), (\"gopal\", 10, 80, 50), (\"shyam\", 70, 80, 70)]\n",
    "# l2 = list(filter(lambda x: True if (x[1] + x[2] + x[3]) / 3 >= 60 else False, l1))\n",
    "# print(l2)\n",
    "# l1 = [(\"ram\", 50, 70, 60), (\"gopal\", 10, 80, 50), (\"shyam\", 70, 80, 70)]\n",
    "# l2 = list(map(lambda x: (x[0], x[1] + x[2] + x[3]), l1))\n",
    "# print(l2)\n",
    "\n",
    "from functools import reduce\n",
    "\n",
    "l1 = [10, 20, 40]\n",
    "l2 = reduce(lambda x, y: x * y, l1)\n",
    "print(l2)\n",
    "l3 = l1.copy()\n",
    "l1[0] = 34\n",
    "print(l1)"
   ]
  },
  {
   "cell_type": "code",
   "execution_count": 8,
   "metadata": {},
   "outputs": [
    {
     "name": "stdout",
     "output_type": "stream",
     "text": [
      "7 exists, count of 7 is 3\n",
      "Largest element: 12\n",
      "smallest element: 3\n"
     ]
    }
   ],
   "source": [
    "# Write a python program to\n",
    "# a. check if element exists in list and print the number of occurrences of the element\n",
    "# b. largest element of the list\n",
    "# c. smallest element of the list\n",
    "# Test case 1:\n",
    "# Enter list elements: 4 9 7 6 3 12 7 12 7\n",
    "# Enter search key:7\n",
    "# 7 exists, count of 7 is 3\n",
    "# Largest element: 12\n",
    "# smallest element: 3\n",
    "# Test case 2:\n",
    "# Enter list elements: 8 6 12 34 75 61\n",
    "# Enter search key:10\n",
    "# 10 does not exist\n",
    "# Largest element: 75\n",
    "# smallest element: 6\n",
    "\n",
    "str = input(\"Enter list elements: \").split()\n",
    "l1 = []\n",
    "for i in str:\n",
    "    l1.append(int(i))\n",
    "key = int(input(\"Enter search key: \"))\n",
    "count = 0\n",
    "for i in l1:\n",
    "    if i == key:\n",
    "        count += 1\n",
    "if count > 0:\n",
    "    print(key, \"exists, count of\", key, \"is\", count)\n",
    "else:\n",
    "    print(key, \"does not exist\")\n",
    "print(\"Largest element:\", max(l1))\n",
    "print(\"smallest element:\", min(l1))"
   ]
  },
  {
   "cell_type": "code",
   "execution_count": 9,
   "metadata": {},
   "outputs": [
    {
     "name": "stdout",
     "output_type": "stream",
     "text": [
      "List before interchange: [2, 6, 7, 9, 4, 3]\n",
      "List after interchange: [3, 6, 7, 9, 4, 2]\n"
     ]
    }
   ],
   "source": [
    "# Python program to interchange first and last elements in a list\n",
    "# Test case 1:\n",
    "# Enter list elements: 2 6 7 9 4 3\n",
    "# List before interchange: [2, 6, 7, 9, 4, 3]\n",
    "# List after interchange: [3, 6, 7, 9, 4, 2]\n",
    "# Test case 2:\n",
    "# Enter list elements: 20 10 52 34 86\n",
    "# List before interchange: [20, 10, 52, 34, 86]\n",
    "# List after interchange: [86, 10, 52, 34, 20]\n",
    "\n",
    "str = input(\"Enter list elements: \").split()\n",
    "l1 = []\n",
    "for i in str:\n",
    "    l1.append(int(i))\n",
    "print(\"List before interchange:\", l1)\n",
    "l1[0], l1[-1] = l1[-1], l1[0]\n",
    "print(\"List after interchange:\", l1)"
   ]
  },
  {
   "cell_type": "code",
   "execution_count": 10,
   "metadata": {},
   "outputs": [
    {
     "name": "stdout",
     "output_type": "stream",
     "text": [
      "['o', 'a', 'e', 'e', 'i', 'o', 'i']\n",
      "['3', '1', '0']\n"
     ]
    }
   ],
   "source": [
    "# write a python program using\n",
    "# 1. filter() and list() functions and .lower() method filter all the vowels in a given string.\n",
    "# 2. This time using filter() and list() functions filter all the positive integers in the string.\n",
    "# case=1\n",
    "# Enter a string :python latest version is 3.10\n",
    "# ['o', 'a', 'e', 'e', 'i', 'o', 'i']\n",
    "# ['3', '1', '0']\n",
    "\n",
    "str = input(\"Enter a string :\")\n",
    "l1 = list(filter(lambda x: True if x.lower() in 'aeoiu' else False, str))\n",
    "l2 = list(filter(lambda x: True if x in '1234567890' else False, str))\n",
    "print(l1)\n",
    "print(l2)"
   ]
  },
  {
   "cell_type": "code",
   "execution_count": 13,
   "metadata": {},
   "outputs": [
    {
     "name": "stdout",
     "output_type": "stream",
     "text": [
      "Resultant List: [4, 15, 6, 12]\n"
     ]
    }
   ],
   "source": [
    "# Write a python program to find sum of digits in each element of a List using reduce()\n",
    "# Test case 1:\n",
    "# Enter list elements: 121 2364 15 84\n",
    "# Resultant List: [4, 15, 6, 12]\n",
    "\n",
    "from functools import reduce\n",
    "\n",
    "lst = input(\"Enter list elements: \").split()\n",
    "l = [reduce((lambda x, y: int(x) + int(y)), list(i)) for i in lst]\n",
    "print(\"Resultant List:\", l)\n"
   ]
  },
  {
   "cell_type": "code",
   "execution_count": 15,
   "metadata": {},
   "outputs": [
    {
     "name": "stdout",
     "output_type": "stream",
     "text": [
      "570\n",
      "[{'rollno': '521', 'm1': 70, 'm2': 65, 'm3': 60}, {'rollno': '522', 'm1': 75, 'm2': 69, 'm3': 70}, {'rollno': '523', 'm1': 70, 'm2': 60, 'm3': 60, 'avg': 190.0}]\n",
      "[{'rollno': '521', 'm1': 70, 'm2': 65, 'm3': 60}, {'rollno': '522', 'm1': 75, 'm2': 69, 'm3': 70}, {'rollno': '523', 'm1': 70, 'm2': 60, 'm3': 60, 'avg': 190.0}]\n"
     ]
    }
   ],
   "source": [
    "'''\n",
    "n = int(input())\n",
    "slist = []\n",
    "for i in range(n):\n",
    "    edict = {}\n",
    "    l = input().split()\n",
    "    edict[\"rollno\"] = l[0]\n",
    "    edict[\"m1\"] = int(l[1])\n",
    "    edict[\"m2\"] = int(l[2])\n",
    "    edict[\"m3\"] = int(l[3])\n",
    "    slist.append(edict)\n",
    "total = 0\n",
    "for e in slist:\n",
    "    total += edict[\"m1\"] + edict[\"m2\"] + edict[\"m3\"]\n",
    "avg = total / 3\n",
    "edict[\"avg\"] = avg\n",
    "print(total)\n",
    "print(slist)\n",
    "lst1 = list(filter(lambda x: True if avg > 75 else False, slist))\n",
    "print(lst1)\n",
    "'''"
   ]
  },
  {
   "cell_type": "code",
   "execution_count": 14,
   "metadata": {},
   "outputs": [
    {
     "name": "stdout",
     "output_type": "stream",
     "text": [
      "{'name': 'someone', 'age': 15, 'sal': 30000, 'des': 'nothing'}\n",
      "adithya\n"
     ]
    }
   ],
   "source": [
    "n = int(input())\n",
    "elist = []\n",
    "for i in range(n):\n",
    "    edict = {}\n",
    "    l = input().split()\n",
    "    edict[\"name\"] = l[0]\n",
    "    edict[\"age\"] = int(l[1])\n",
    "    edict[\"sal\"] = int(l[2])\n",
    "    edict[\"des\"] = l[3]\n",
    "    elist.append(edict)\n",
    "print(edict)\n",
    "name = \"\"\n",
    "maxsal = 0\n",
    "for e in elist:\n",
    "    if e[\"sal\"] > maxsal:\n",
    "        maxsal = e[\"sal\"]\n",
    "        name = e[\"name\"]\n",
    "print(name)\n"
   ]
  },
  {
   "cell_type": "code",
   "execution_count": null,
   "metadata": {},
   "outputs": [],
   "source": [
    "n = int(input())\n",
    "elist = []\n",
    "for i in range(n):\n",
    "    edict = {}\n",
    "    l = input().split()\n",
    "    edict[\"name\"] = l[0]\n",
    "    edict[\"age\"] = int(l[1])\n",
    "    edict[\"sal\"] = int(l[2])\n",
    "    edict[\"des\"] = l[3]\n",
    "    elist.append(edict)\n",
    "print(edict)\n",
    "name = \"\"\n",
    "maxsal = 0\n",
    "for e in elist:\n",
    "    if e[\"des\"] == \"se\":\n",
    "        if e[\"sal\"] > maxsal:\n",
    "            maxsal = e[\"sal\"]\n",
    "            name = e[\"name\"]\n",
    "print(name)"
   ]
  },
  {
   "cell_type": "code",
   "execution_count": 16,
   "metadata": {},
   "outputs": [
    {
     "name": "stdout",
     "output_type": "stream",
     "text": [
      "{1: 1, 2: 4, 3: 9, 4: 16, 5: 25, 6: 36, 7: 49}\n"
     ]
    }
   ],
   "source": [
    "# With a given integral number n, write a program to generate a dictionary that\n",
    "# contains (i, i*i) such that is an integral number between 1 and n (both included).\n",
    "# and then the program should print the dictionary.\n",
    "# case=1\n",
    "# Enter a number :7\n",
    "# {1: 1, 2: 4, 3: 9, 4: 16, 5: 25, 6: 36, 7: 49}\n",
    "\n",
    "n = int(input(\"Enter a number :\"))\n",
    "d = {}\n",
    "for i in range(1, n + 1):\n",
    "    d[i] = i * i\n",
    "print(d)"
   ]
  },
  {
   "cell_type": "code",
   "execution_count": 18,
   "metadata": {},
   "outputs": [
    {
     "name": "stdout",
     "output_type": "stream",
     "text": [
      "Enter student details:\n",
      "Student details:\n",
      "[{'id': 101, 'name': 'hima', 'marks': [78, 96, 82]}, {'id': 102, 'name': 'nnikitha', 'marks': [87, 68, 91]}, {'id': 103, 'name': 'ram', 'marks': [74, 65, 45]}]\n",
      "101 hima has highest marks 256\n"
     ]
    }
   ],
   "source": [
    "# Write a python program to create list of dictionaries\n",
    "# 1. store student details (id, name and marks) as a dictionary\n",
    "# 2. find which student has maximum marks\n",
    "\n",
    "# Test case:\n",
    "\n",
    "# Enter number of students:3\n",
    "# Enter student details:\n",
    "# 101 Hima 78 96 82\n",
    "# 102 Nikitha 87 68 91\n",
    "# 103 Ram 74 65 45\n",
    "\n",
    "# Student details:\n",
    "# [{'id': '101', 'name': 'Hima', 'marks': [78, 96, 82]}, {'id': '102', 'name': 'Nikitha', 'marks': [87, 68, 91]}, {'id': '\n",
    "# 103', 'name': 'Ram', 'marks': [74, 65, 45]}]\n",
    "# 101 Hima has highest marks 256\n",
    "\n",
    "n = int(input(\"Enter number of students:\"))\n",
    "l = []\n",
    "print(\"Enter student details:\")\n",
    "for i in range(n):\n",
    "    d = {}\n",
    "    str = input().split()\n",
    "    d[\"id\"] = int(str[0])\n",
    "    d[\"name\"] = str[1]\n",
    "    d[\"marks\"] = [int(str[2]), int(str[3]), int(str[4])]\n",
    "    l.append(d)\n",
    "print(\"Student details:\")\n",
    "print(l)\n",
    "max = 0\n",
    "total = 0\n",
    "for i in l:\n",
    "    total += sum(i[\"marks\"])\n",
    "    if sum(i[\"marks\"]) > max:\n",
    "        max = sum(i[\"marks\"])\n",
    "        name = i[\"name\"]\n",
    "        rollno = i[\"id\"]\n",
    "print(rollno, name, \"has highest marks\", max)\n"
   ]
  },
  {
   "cell_type": "code",
   "execution_count": 21,
   "metadata": {},
   "outputs": [
    {
     "name": "stdout",
     "output_type": "stream",
     "text": [
      "students are not equal\n",
      "s1 is older\n",
      "[age = 35 name = gopal rollno = 101 marks = 135, age = 28 name = ram rollno = 105 marks = 155, age = 30 name = sam rollno = 109 marks = 70]\n",
      "[age = 28 name = ram rollno = 105 marks = 155, age = 30 name = sam rollno = 109 marks = 70, age = 35 name = gopal rollno = 101 marks = 135]\n",
      "[age = 28 name = ram rollno = 105 marks = 155, age = 35 name = gopal rollno = 101 marks = 135, age = 30 name = sam rollno = 109 marks = 70]\n"
     ]
    }
   ],
   "source": [
    "class Student:\n",
    "    def __init__(self, age, name, rollno, size):\n",
    "        self.age = age\n",
    "        self.name = name\n",
    "        self.rollno = rollno\n",
    "        self.marks = [0] * size\n",
    "\n",
    "    def __repr__(self):\n",
    "        return \"age = {0} name = {1} rollno = {2} marks = {3}\".format(\n",
    "            self.age, self.name, self.rollno, sum(self.marks))\n",
    "\n",
    "    def __eq__(self, other):\n",
    "        if self.age == other.age and self.name == other.name and self.rollno == other.rollno:\n",
    "            return True\n",
    "        else:\n",
    "            return False\n",
    "\n",
    "    def __gt__(self, other):\n",
    "        return self.age > other.age\n",
    "\n",
    "    def __setitem__(self, key, value):\n",
    "        self.marks[key] = value\n",
    "\n",
    "\n",
    "s1 = Student(35, \"gopal\", 101, 3)\n",
    "s2 = Student(28, \"ram\", 105, 3)\n",
    "s3 = Student(30, \"sam\", 109, 3)\n",
    "if s1 == s2:\n",
    "    print(\"students are equal\")\n",
    "else:\n",
    "    print(\"students are not equal\")\n",
    "if s1 > s2:\n",
    "    print(\"s1 is older\")\n",
    "else:\n",
    "    print(\"s2 is older\")\n",
    "s1[0] = 30\n",
    "s1[1] = 45\n",
    "s1[2] = 60\n",
    "s2[0] = 50\n",
    "s2[1] = 75\n",
    "s2[2] = 30\n",
    "s3[0] = 20\n",
    "s3[1] = 35\n",
    "s3[2] = 15\n",
    "slist = []\n",
    "slist.append(s1)\n",
    "slist.append(s2)\n",
    "slist.append(s3)\n",
    "print(slist)\n",
    "slist.sort()\n",
    "print(slist)\n",
    "slist.sort(key=lambda x: sum(x.marks), reverse=True)\n",
    "print(slist)"
   ]
  },
  {
   "cell_type": "code",
   "execution_count": 22,
   "metadata": {},
   "outputs": [
    {
     "name": "stdout",
     "output_type": "stream",
     "text": [
      "[Point(x=0, y=1), Point(x=1, y=0), Point(x=3, y=0)]\n"
     ]
    }
   ],
   "source": [
    "# write a python  program to compare  points  of  a Line by their\n",
    "# distances to (0, 0)  and arrange the points in ascending order\n",
    "# Note : create a point class and pass different points (values)\n",
    "# to it as objects and use sort method to get ascending order\n",
    "# Testcases:\n",
    "# Enter number of points 3\n",
    "# 0\n",
    "# 1\n",
    "# 3\n",
    "# 0\n",
    "# 1\n",
    "# 0\n",
    "# [Point(x=0, y=1), Point(x=1, y=0), Point(x=3, y=0)]\n",
    "\n",
    "\n",
    "class Point:\n",
    "    def __init__(self, x, y):\n",
    "        self.x = x\n",
    "        self.y = y\n",
    "\n",
    "    def __repr__(self):\n",
    "        return \"Point(x={0}, y={1})\".format(self.x, self.y)\n",
    "\n",
    "\n",
    "n = int(input(\"Enter number of points \"))\n",
    "pl = []\n",
    "for i in range(n):\n",
    "    x = int(input())\n",
    "    y = int(input())\n",
    "    p = Point(x, y)\n",
    "    pl.append(p)\n",
    "pl.sort(key=lambda p: p.x * p.x + p.y * p.y)\n",
    "print(pl)"
   ]
  },
  {
   "cell_type": "code",
   "execution_count": 23,
   "metadata": {},
   "outputs": [
    {
     "name": "stdout",
     "output_type": "stream",
     "text": [
      "Enter citizen 1 Details\n",
      "Enter citizen 2 Details\n",
      "varma\n"
     ]
    }
   ],
   "source": [
    "# Write a python program to create a class citizen and compare ages  of different\n",
    "# citizens  print older citizen name\n",
    "# Test case:\n",
    "# Enter citizen 1 Details\n",
    "# varma\n",
    "# aggadi\n",
    "# hyderabad\n",
    "# 32\n",
    "# Enter citizen 2 Details\n",
    "# venky\n",
    "# kethineni\n",
    "# guntur\n",
    "# 30\n",
    "# Varma\n",
    "\n",
    "\n",
    "class Citizen:\n",
    "    def __init__(self, fname, lname, address, age):\n",
    "        self.fname = fname\n",
    "        self.lname = lname\n",
    "        self.address = address\n",
    "        self.age = age\n",
    "\n",
    "    def __ge__(self, other):\n",
    "        return self.age >= other.age\n",
    "\n",
    "\n",
    "print(\"Enter citizen 1 Details\")\n",
    "fname = input()\n",
    "lname = input()\n",
    "address = input()\n",
    "age = int(input())\n",
    "c1 = Citizen(fname, lname, address, age)\n",
    "print(\"Enter citizen 2 Details\")\n",
    "fname1 = input()\n",
    "lname1 = input()\n",
    "address1 = input()\n",
    "age1 = int(input())\n",
    "c2 = Citizen(fname1, lname1, address1, age1)\n",
    "if c1 >= c2:\n",
    "    print(fname)\n",
    "else:\n",
    "    print(fname1)"
   ]
  },
  {
   "cell_type": "code",
   "execution_count": 24,
   "metadata": {},
   "outputs": [
    {
     "name": "stdout",
     "output_type": "stream",
     "text": [
      "Enter list elements :\n",
      "Enter a character :\n",
      "List with given character\n",
      "['kmit', 'kmec']\n",
      "List without duplicates\n",
      "['kmit', 'ngit', 'jntu', 'kmec', 'cbit', 'rvrj', 'ou']\n"
     ]
    }
   ],
   "source": [
    "# write a python program using list comprehension\n",
    "# 1. read a list from user\n",
    "# 2. Make a new list with  the words starts with a given character(user input)\n",
    "# 3. create a new list by removing all the duplicate words from the existing list\n",
    "\n",
    "# Test case 1:\n",
    "# Enter list elements :\n",
    "# kmit ngit jntu kmec cbit rvrj jntu ou ngit\n",
    "# Enter a character :k\n",
    "# List with given character\n",
    "# ['kmit', 'kmec']\n",
    "# List without duplicates\n",
    "# ['kmit', 'ngit', 'jntu', 'kmec', 'cbit', 'rvrj', 'ou']\n",
    "\n",
    "print(\"Enter list elements :\")\n",
    "l = input().split()\n",
    "print(\"Enter a character :\")\n",
    "c = input()\n",
    "l1 = [i for i in l if i[0] == c]\n",
    "print(\"List with given character\")\n",
    "print(l1)\n",
    "l2 = []\n",
    "[l2.append(i) for i in l if i not in l2]\n",
    "print(\"List without duplicates\")\n",
    "print(l2)"
   ]
  },
  {
   "cell_type": "code",
   "execution_count": 29,
   "metadata": {},
   "outputs": [
    {
     "name": "stdout",
     "output_type": "stream",
     "text": [
      "New list after adding 3\n",
      "[-3, -1, 5]\n",
      "New list with squared elements\n",
      "[81, 121]\n",
      "New list with Positive elements\n",
      "[6, 4]\n"
     ]
    }
   ],
   "source": [
    "# Write a python program using list comprehension\n",
    "# Note: Using the given list perform the given taks\n",
    "# 1. Create a new list - add 3 to given list elements if that element is even\n",
    "# 2. construct a list from the squares of each element in the list,\n",
    "#     if the square is greater than 50.\n",
    "# 3. Create a new list with - make all negative elements to positive elements\n",
    "\n",
    "# Test case 1:\n",
    "# Enter list elements: 5 3 7 -6 9 -4 11 2\n",
    "# New list after adding 3\n",
    "# [-3, -1, 5]\n",
    "# New list with squared elements\n",
    "# [81, 121]\n",
    "# New list with Positive elements\n",
    "# [6, 4]\n",
    "\n",
    "str = input(\"Enter list elements: \").split()\n",
    "l1 = [int(i) for i in str]\n",
    "l2 = [i + 3 for i in l1 if i % 2 == 0]\n",
    "l3 = [i * i for i in l1 if i * i > 50]\n",
    "l4 = [-i for i in l1 if i < 0]\n",
    "print(\"New list after adding 3\")\n",
    "print(l2)\n",
    "print(\"New list with squared elements\")\n",
    "print(l3)\n",
    "print(\"New list with Positive elements\")\n",
    "print(l4)"
   ]
  },
  {
   "cell_type": "code",
   "execution_count": 35,
   "metadata": {},
   "outputs": [
    {
     "name": "stdout",
     "output_type": "stream",
     "text": [
      "Enter list of student names :\n",
      "Enter student marks :\n",
      "Dictionary : {'ram': 65, 'gopal': 90, 'kalyan': 48, 'siva': 73, 'harish': 81, 'mahi': 59}\n",
      "Maximum Marks:  90\n",
      "Minimum Marks:  48\n",
      "student names with first class:\n",
      "ram\n",
      "siva\n"
     ]
    }
   ],
   "source": [
    "# Write a program to read two lists from user\n",
    "# i. create a dictonary using two lists\n",
    "# ii. find minimum and maximum marks of students in dictionary\n",
    "# iii. print all students names who's marks >=60 and <75 (\"first class\")\n",
    "# case=1\n",
    "# Enter list of student names :\n",
    "# ram gopal kalyan siva harish mahi\n",
    "# Enter student marks :\n",
    "# 65 90 48 73 81 59\n",
    "# Dictionary : {'ram': 65, 'gopal': 90, 'kalyan': 48, 'siva': 73, 'harish': 81, 'mahi': 59}\n",
    "# Maximum Marks:  90\n",
    "# Minimum Marks:  48\n",
    "# student names with first class:\n",
    "# ram\n",
    "# siva\n",
    "\n",
    "print(\"Enter list of student names :\")\n",
    "l1 = input().split()\n",
    "for i in range(len(l1)):\n",
    "    l1[i] = l1[i].lower()\n",
    "print(\"Enter student marks :\")\n",
    "l2 = input().split()\n",
    "for i in range(len(l2)):\n",
    "    l2[i] = int(l2[i])\n",
    "d = dict(zip(l1, l2))\n",
    "print(\"Dictionary :\", d)\n",
    "max = 0\n",
    "for i in d.values():\n",
    "    if i > max:\n",
    "        max = i\n",
    "print(\"Maximum Marks: \", max)\n",
    "min = 100\n",
    "for i in d.values():\n",
    "    if i < min:\n",
    "        min = i\n",
    "print(\"Minimum Marks: \", min)\n",
    "print(\"student names with first class:\")\n",
    "for i in d:\n",
    "    if d[i] >= 60 and d[i] < 75:\n",
    "        print(i)\n"
   ]
  },
  {
   "cell_type": "code",
   "execution_count": 37,
   "metadata": {},
   "outputs": [
    {
     "name": "stdout",
     "output_type": "stream",
     "text": [
      "Enter student details:\n",
      "Students eligible for placements are:\n",
      "Gnanesh\n",
      "Venkatesh\n",
      "Ram\n",
      "Nikitha\n"
     ]
    }
   ],
   "source": [
    "'''\n",
    "Write a python program to create list of dictionaries\n",
    "1. store student details (id, name and marks) as a dictionary\n",
    "2. find students eligible for placements\n",
    "Note: student with average marks>75 are eligible for placements\n",
    "Test case:\n",
    "Enter number of students:5\n",
    "Enter student details:\n",
    "501 Gnanesh 56 78 93\n",
    "502 Venkatesh 67 98 89\n",
    "503 Ram 92 84 71\n",
    "504 Hima 46 72 52\n",
    "505 Nikitha 67 87 91\n",
    "Students eligible for placements are:\n",
    "Gnanesh\n",
    "Venkatesh\n",
    "Ram\n",
    "Nikitha\n",
    "'''\n",
    "n = int(input(\"Enter number of students:\"))\n",
    "l = []\n",
    "print(\"Enter student details:\")\n",
    "for i in range(n):\n",
    "    d = {}\n",
    "    str = input().split()\n",
    "    d[\"id\"] = str[0]\n",
    "    d[\"name\"] = str[1]\n",
    "    d[\"marks\"] = [int(str[2]), int(str[3]), int(str[4])]\n",
    "    l.append(d)\n",
    "print(\"Students eligible for placements are:\")\n",
    "for i in l:\n",
    "    if sum(i[\"marks\"]) / len(i[\"marks\"]) > 75:\n",
    "        print(i[\"name\"])\n"
   ]
  },
  {
   "cell_type": "code",
   "execution_count": 38,
   "metadata": {},
   "outputs": [
    {
     "name": "stdout",
     "output_type": "stream",
     "text": [
      "first\n",
      "second\n",
      "third\n"
     ]
    }
   ],
   "source": [
    "'''\n",
    "Write a Python program illustrate the following when threads called\n",
    "in any order it should be in order like thread A calls first(), \n",
    "thread B calls third(), and thread C calls second(). \n",
    "Output: \n",
    "first\n",
    "second\n",
    "third\n",
    "'''\n",
    "\n",
    "import threading\n",
    "\n",
    "\n",
    "def first(lock2):\n",
    "    print(\"first\")\n",
    "    lock2.release()\n",
    "\n",
    "\n",
    "def second(lock2, lock3):\n",
    "    lock2.acquire()\n",
    "    print(\"second\")\n",
    "    lock3.release()\n",
    "\n",
    "\n",
    "def third(lock3):\n",
    "    lock3.acquire()\n",
    "    print(\"third\")\n",
    "\n",
    "\n",
    "lock2 = threading.Lock()\n",
    "lock3 = threading.Lock()\n",
    "lock2.acquire()\n",
    "lock3.acquire()\n",
    "t1 = threading.Thread(target=first, args=(lock2, ))\n",
    "t2 = threading.Thread(target=second, args=(lock2, lock3))\n",
    "t3 = threading.Thread(target=third, args=(lock3, ))\n",
    "t3.start()\n",
    "t2.start()\n",
    "t1.start()\n",
    "t1.join()\n",
    "t2.join()\n",
    "t3.join()"
   ]
  },
  {
   "cell_type": "code",
   "execution_count": 39,
   "metadata": {},
   "outputs": [
    {
     "name": "stdout",
     "output_type": "stream",
     "text": [
      "foo\n",
      "bar\n",
      "foo\n",
      "bar\n",
      "foo\n",
      "bar\n",
      "foo\n",
      "bar\n",
      "foo\n",
      "bar\n"
     ]
    }
   ],
   "source": [
    "'''\n",
    "create a class FooBar has two methods(Threads) foo and bar which foo \n",
    "prints \"foo\" and bar prints \"bar\" .\n",
    "call them  n times so that it should print alternatively\n",
    "Note:(consider n=5)\n",
    "output:\n",
    "foo                                                                                                                     \n",
    "bar                                                                                                                     \n",
    "foo                                                                                                                     \n",
    "bar                                                                                                                     \n",
    "foo                                                                                                                     \n",
    "bar                                                                                                                     \n",
    "foo                                                                                                                     \n",
    "bar                                                                                                                     \n",
    "foo                                                                                                                     \n",
    "bar  \n",
    "'''\n",
    "\n",
    "import threading\n",
    "\n",
    "\n",
    "def foo(lock1):\n",
    "    for _ in range(5):\n",
    "        lock1.acquire()\n",
    "        print(\"foo\")\n",
    "        lock2.release()\n",
    "\n",
    "\n",
    "def bar(lock2):\n",
    "    for _ in range(5):\n",
    "        lock2.acquire()\n",
    "        print(\"bar\")\n",
    "        lock1.release()\n",
    "\n",
    "\n",
    "lock1 = threading.Lock()\n",
    "lock2 = threading.Lock()\n",
    "lock1.acquire()\n",
    "lock2.acquire()\n",
    "lock1.release()\n",
    "t1 = threading.Thread(target=foo, args=(lock1, ))\n",
    "t2 = threading.Thread(target=bar, args=(lock2, ))\n",
    "t1.start()\n",
    "t2.start()\n",
    "t1.join()\n",
    "t2.join()\n"
   ]
  }
 ],
 "metadata": {
  "interpreter": {
   "hash": "e543ab9b8c4f075df23c749398311b23b31acc3b527c15251293494edac362a5"
  },
  "kernelspec": {
   "display_name": "Python 3.9.6 64-bit",
   "language": "python",
   "name": "python3"
  },
  "language_info": {
   "codemirror_mode": {
    "name": "ipython",
    "version": 3
   },
   "file_extension": ".py",
   "mimetype": "text/x-python",
   "name": "python",
   "nbconvert_exporter": "python",
   "pygments_lexer": "ipython3",
   "version": "3.9.6"
  },
  "orig_nbformat": 4
 },
 "nbformat": 4,
 "nbformat_minor": 2
}
